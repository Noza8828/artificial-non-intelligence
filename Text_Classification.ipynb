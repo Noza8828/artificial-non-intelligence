{
  "nbformat": 4,
  "nbformat_minor": 0,
  "metadata": {
    "accelerator": "GPU",
    "colab": {
      "name": "Final_Text_Classification.ipynb",
      "provenance": [],
      "collapsed_sections": [],
      "toc_visible": true,
      "include_colab_link": true
    },
    "kernelspec": {
      "display_name": "Python 3",
      "name": "python3"
    },
    "language_info": {
      "name": "python"
    }
  },
  "cells": [
    {
      "cell_type": "markdown",
      "metadata": {
        "id": "view-in-github",
        "colab_type": "text"
      },
      "source": [
        "<a href=\"https://colab.research.google.com/github/Noza8828/artificial-non-intelligence/blob/main/Text_Classification.ipynb\" target=\"_parent\"><img src=\"https://colab.research.google.com/assets/colab-badge.svg\" alt=\"Open In Colab\"/></a>"
      ]
    },
    {
      "cell_type": "markdown",
      "metadata": {
        "id": "tZ8XzXqwK69i"
      },
      "source": [
        "#Importing Necessary Libraries"
      ]
    },
    {
      "cell_type": "code",
      "metadata": {
        "colab": {
          "base_uri": "https://localhost:8080/"
        },
        "id": "iLkrde5zK4P0",
        "outputId": "43bc1f6a-f668-4463-adc3-5082f4bf9f3f"
      },
      "source": [
        "pip install pyspellchecker\n"
      ],
      "execution_count": null,
      "outputs": [
        {
          "output_type": "stream",
          "text": [
            "Collecting pyspellchecker\n",
            "\u001b[?25l  Downloading https://files.pythonhosted.org/packages/64/c7/435f49c0ac6bec031d1aba4daf94dc21dc08a9db329692cdb77faac51cea/pyspellchecker-0.6.2-py3-none-any.whl (2.7MB)\n",
            "\u001b[K     |████████████████████████████████| 2.7MB 5.8MB/s \n",
            "\u001b[?25hInstalling collected packages: pyspellchecker\n",
            "Successfully installed pyspellchecker-0.6.2\n"
          ],
          "name": "stdout"
        }
      ]
    },
    {
      "cell_type": "code",
      "metadata": {
        "colab": {
          "base_uri": "https://localhost:8080/"
        },
        "id": "Izqk43PGUvL7",
        "outputId": "eb6069de-d2e7-48ba-d97d-930c883d95dc"
      },
      "source": [
        "# import libraries\n",
        "\n",
        "import re\n",
        "import numpy as np\n",
        "import pandas as pd\n",
        "import seaborn as sns\n",
        "from matplotlib import pyplot as plt\n",
        "import string\n",
        "\n",
        "# import sklearn libraries\n",
        "# text processing\n",
        "from sklearn.feature_extraction.text import CountVectorizer, TfidfVectorizer\n",
        "\n",
        "# Decomposition\n",
        "from sklearn.decomposition import PCA, LatentDirichletAllocation\n",
        "\n",
        "# ML models\n",
        "from sklearn.ensemble import RandomForestClassifier\n",
        "from sklearn.linear_model import  LogisticRegression\n",
        "from sklearn.naive_bayes import MultinomialNB\n",
        "\n",
        "# model selection\n",
        "from sklearn.model_selection import cross_val_score, cross_validate, train_test_split\n",
        "\n",
        "# scoring\n",
        "from sklearn.metrics import make_scorer, mean_squared_error, confusion_matrix, classification_report, plot_confusion_matrix\n",
        "\n",
        "# Scaling\n",
        "from sklearn.preprocessing import StandardScaler, MinMaxScaler\n",
        "\n",
        "#import tensorflow libraries\n",
        "#import nltk libraries\n",
        "import nltk\n",
        "\n",
        "nltk.download('stopwords')\n",
        "nltk.download('punkt')\n",
        "nltk.download('wordnet')\n",
        "nltk.download('words')\n",
        "\n",
        "from nltk.corpus import stopwords\n",
        "from nltk.tokenize import word_tokenize\n",
        "from nltk.stem import WordNetLemmatizer"
      ],
      "execution_count": null,
      "outputs": [
        {
          "output_type": "stream",
          "text": [
            "[nltk_data] Downloading package stopwords to /root/nltk_data...\n",
            "[nltk_data]   Unzipping corpora/stopwords.zip.\n",
            "[nltk_data] Downloading package punkt to /root/nltk_data...\n",
            "[nltk_data]   Unzipping tokenizers/punkt.zip.\n",
            "[nltk_data] Downloading package wordnet to /root/nltk_data...\n",
            "[nltk_data]   Unzipping corpora/wordnet.zip.\n",
            "[nltk_data] Downloading package words to /root/nltk_data...\n",
            "[nltk_data]   Unzipping corpora/words.zip.\n"
          ],
          "name": "stdout"
        }
      ]
    },
    {
      "cell_type": "code",
      "metadata": {
        "colab": {
          "base_uri": "https://localhost:8080/",
          "height": 201
        },
        "id": "DO9zBve0LFUf",
        "outputId": "866c785b-449b-4986-8d37-d2eaf56ce46a"
      },
      "source": [
        "df = pd.read_csv('all_tweets_final.csv')\n",
        "df.head()"
      ],
      "execution_count": null,
      "outputs": [
        {
          "output_type": "execute_result",
          "data": {
            "text/html": [
              "<div>\n",
              "<style scoped>\n",
              "    .dataframe tbody tr th:only-of-type {\n",
              "        vertical-align: middle;\n",
              "    }\n",
              "\n",
              "    .dataframe tbody tr th {\n",
              "        vertical-align: top;\n",
              "    }\n",
              "\n",
              "    .dataframe thead th {\n",
              "        text-align: right;\n",
              "    }\n",
              "</style>\n",
              "<table border=\"1\" class=\"dataframe\">\n",
              "  <thead>\n",
              "    <tr style=\"text-align: right;\">\n",
              "      <th></th>\n",
              "      <th>Unnamed: 0</th>\n",
              "      <th>content</th>\n",
              "      <th>label</th>\n",
              "      <th>fake</th>\n",
              "    </tr>\n",
              "  </thead>\n",
              "  <tbody>\n",
              "    <tr>\n",
              "      <th>0</th>\n",
              "      <td>0</td>\n",
              "      <td>damn dude! Thats how I know to go in the dark!...</td>\n",
              "      <td>1</td>\n",
              "      <td>1</td>\n",
              "    </tr>\n",
              "    <tr>\n",
              "      <th>1</th>\n",
              "      <td>1</td>\n",
              "      <td>Fuck em.  Fuck em over with a fucking feather ...</td>\n",
              "      <td>1</td>\n",
              "      <td>1</td>\n",
              "    </tr>\n",
              "    <tr>\n",
              "      <th>2</th>\n",
              "      <td>2</td>\n",
              "      <td>did you know I've gone on 2 podcasts so far......</td>\n",
              "      <td>1</td>\n",
              "      <td>1</td>\n",
              "    </tr>\n",
              "    <tr>\n",
              "      <th>3</th>\n",
              "      <td>3</td>\n",
              "      <td>Damn man! Damn that store!!!!</td>\n",
              "      <td>1</td>\n",
              "      <td>1</td>\n",
              "    </tr>\n",
              "    <tr>\n",
              "      <th>4</th>\n",
              "      <td>4</td>\n",
              "      <td>i have a hj and i have no damn idea why people...</td>\n",
              "      <td>1</td>\n",
              "      <td>1</td>\n",
              "    </tr>\n",
              "  </tbody>\n",
              "</table>\n",
              "</div>"
            ],
            "text/plain": [
              "   Unnamed: 0                                            content  label  fake\n",
              "0           0  damn dude! Thats how I know to go in the dark!...      1     1\n",
              "1           1  Fuck em.  Fuck em over with a fucking feather ...      1     1\n",
              "2           2  did you know I've gone on 2 podcasts so far......      1     1\n",
              "3           3                      Damn man! Damn that store!!!!      1     1\n",
              "4           4  i have a hj and i have no damn idea why people...      1     1"
            ]
          },
          "metadata": {
            "tags": []
          },
          "execution_count": 3
        }
      ]
    },
    {
      "cell_type": "code",
      "metadata": {
        "colab": {
          "base_uri": "https://localhost:8080/"
        },
        "id": "X-eoot0JUwYA",
        "outputId": "87fb1125-40b3-48fe-b20a-2f7725dbf9d0"
      },
      "source": [
        "df.drop('Unnamed: 0', axis=1, inplace = True)\n",
        "df.dropna(inplace=True)\n",
        "df.info()"
      ],
      "execution_count": null,
      "outputs": [
        {
          "output_type": "stream",
          "text": [
            "<class 'pandas.core.frame.DataFrame'>\n",
            "Int64Index: 7986 entries, 0 to 7985\n",
            "Data columns (total 3 columns):\n",
            " #   Column   Non-Null Count  Dtype \n",
            "---  ------   --------------  ----- \n",
            " 0   content  7986 non-null   object\n",
            " 1   label    7986 non-null   int64 \n",
            " 2   fake     7986 non-null   int64 \n",
            "dtypes: int64(2), object(1)\n",
            "memory usage: 249.6+ KB\n"
          ],
          "name": "stdout"
        }
      ]
    },
    {
      "cell_type": "code",
      "metadata": {
        "colab": {
          "base_uri": "https://localhost:8080/",
          "height": 201
        },
        "id": "eA0b70x4U47H",
        "outputId": "6d01673b-1e3e-4bed-e8f1-e78f11f4f440"
      },
      "source": [
        "df.head()"
      ],
      "execution_count": null,
      "outputs": [
        {
          "output_type": "execute_result",
          "data": {
            "text/html": [
              "<div>\n",
              "<style scoped>\n",
              "    .dataframe tbody tr th:only-of-type {\n",
              "        vertical-align: middle;\n",
              "    }\n",
              "\n",
              "    .dataframe tbody tr th {\n",
              "        vertical-align: top;\n",
              "    }\n",
              "\n",
              "    .dataframe thead th {\n",
              "        text-align: right;\n",
              "    }\n",
              "</style>\n",
              "<table border=\"1\" class=\"dataframe\">\n",
              "  <thead>\n",
              "    <tr style=\"text-align: right;\">\n",
              "      <th></th>\n",
              "      <th>content</th>\n",
              "      <th>label</th>\n",
              "      <th>fake</th>\n",
              "    </tr>\n",
              "  </thead>\n",
              "  <tbody>\n",
              "    <tr>\n",
              "      <th>0</th>\n",
              "      <td>damn dude! Thats how I know to go in the dark!...</td>\n",
              "      <td>1</td>\n",
              "      <td>1</td>\n",
              "    </tr>\n",
              "    <tr>\n",
              "      <th>1</th>\n",
              "      <td>Fuck em.  Fuck em over with a fucking feather ...</td>\n",
              "      <td>1</td>\n",
              "      <td>1</td>\n",
              "    </tr>\n",
              "    <tr>\n",
              "      <th>2</th>\n",
              "      <td>did you know I've gone on 2 podcasts so far......</td>\n",
              "      <td>1</td>\n",
              "      <td>1</td>\n",
              "    </tr>\n",
              "    <tr>\n",
              "      <th>3</th>\n",
              "      <td>Damn man! Damn that store!!!!</td>\n",
              "      <td>1</td>\n",
              "      <td>1</td>\n",
              "    </tr>\n",
              "    <tr>\n",
              "      <th>4</th>\n",
              "      <td>i have a hj and i have no damn idea why people...</td>\n",
              "      <td>1</td>\n",
              "      <td>1</td>\n",
              "    </tr>\n",
              "  </tbody>\n",
              "</table>\n",
              "</div>"
            ],
            "text/plain": [
              "                                             content  label  fake\n",
              "0  damn dude! Thats how I know to go in the dark!...      1     1\n",
              "1  Fuck em.  Fuck em over with a fucking feather ...      1     1\n",
              "2  did you know I've gone on 2 podcasts so far......      1     1\n",
              "3                      Damn man! Damn that store!!!!      1     1\n",
              "4  i have a hj and i have no damn idea why people...      1     1"
            ]
          },
          "metadata": {
            "tags": []
          },
          "execution_count": 6
        }
      ]
    },
    {
      "cell_type": "code",
      "metadata": {
        "colab": {
          "base_uri": "https://localhost:8080/"
        },
        "id": "PpTxrhX-_UwU",
        "outputId": "5adfe3a5-f783-4449-ddd5-19a6845f4d00"
      },
      "source": [
        "df.duplicated().sum()"
      ],
      "execution_count": null,
      "outputs": [
        {
          "output_type": "execute_result",
          "data": {
            "text/plain": [
              "22"
            ]
          },
          "metadata": {
            "tags": []
          },
          "execution_count": 7
        }
      ]
    },
    {
      "cell_type": "code",
      "metadata": {
        "colab": {
          "base_uri": "https://localhost:8080/"
        },
        "id": "rKczBho4LPUR",
        "outputId": "7293f66a-ff6e-4085-e9eb-6f39075d1e38"
      },
      "source": [
        "df.drop_duplicates(inplace=True, ignore_index=True)\n",
        "df.info()"
      ],
      "execution_count": null,
      "outputs": [
        {
          "output_type": "stream",
          "text": [
            "<class 'pandas.core.frame.DataFrame'>\n",
            "RangeIndex: 7964 entries, 0 to 7963\n",
            "Data columns (total 3 columns):\n",
            " #   Column   Non-Null Count  Dtype \n",
            "---  ------   --------------  ----- \n",
            " 0   content  7964 non-null   object\n",
            " 1   label    7964 non-null   int64 \n",
            " 2   fake     7964 non-null   int64 \n",
            "dtypes: int64(2), object(1)\n",
            "memory usage: 186.8+ KB\n"
          ],
          "name": "stdout"
        }
      ]
    },
    {
      "cell_type": "markdown",
      "metadata": {
        "id": "JyI6vE60WEQd"
      },
      "source": [
        "# 1. Data Cleaning"
      ]
    },
    {
      "cell_type": "markdown",
      "metadata": {
        "id": "DCzzQcWYWUmP"
      },
      "source": [
        "## 1.1. Remove Punctuations & convert lowercases"
      ]
    },
    {
      "cell_type": "code",
      "metadata": {
        "colab": {
          "base_uri": "https://localhost:8080/",
          "height": 201
        },
        "id": "23REe_55VAOa",
        "outputId": "d5507bc7-2a50-4f14-baa2-50f2c816ac24"
      },
      "source": [
        "def text_cleaning(text):\n",
        "    text = text.lower()\n",
        "    for punctuation in string.punctuation:\n",
        "        text = text.replace(punctuation, ' ')\n",
        "    \n",
        "\n",
        "    return text   \n",
        "\n",
        "df['content_clean'] = df['content'].apply(text_cleaning)\n",
        "df.head()"
      ],
      "execution_count": null,
      "outputs": [
        {
          "output_type": "execute_result",
          "data": {
            "text/html": [
              "<div>\n",
              "<style scoped>\n",
              "    .dataframe tbody tr th:only-of-type {\n",
              "        vertical-align: middle;\n",
              "    }\n",
              "\n",
              "    .dataframe tbody tr th {\n",
              "        vertical-align: top;\n",
              "    }\n",
              "\n",
              "    .dataframe thead th {\n",
              "        text-align: right;\n",
              "    }\n",
              "</style>\n",
              "<table border=\"1\" class=\"dataframe\">\n",
              "  <thead>\n",
              "    <tr style=\"text-align: right;\">\n",
              "      <th></th>\n",
              "      <th>content</th>\n",
              "      <th>label</th>\n",
              "      <th>fake</th>\n",
              "      <th>content_clean</th>\n",
              "    </tr>\n",
              "  </thead>\n",
              "  <tbody>\n",
              "    <tr>\n",
              "      <th>0</th>\n",
              "      <td>damn dude! Thats how I know to go in the dark!...</td>\n",
              "      <td>1</td>\n",
              "      <td>1</td>\n",
              "      <td>damn dude  thats how i know to go in the dark ...</td>\n",
              "    </tr>\n",
              "    <tr>\n",
              "      <th>1</th>\n",
              "      <td>Fuck em.  Fuck em over with a fucking feather ...</td>\n",
              "      <td>1</td>\n",
              "      <td>1</td>\n",
              "      <td>fuck em   fuck em over with a fucking feather ...</td>\n",
              "    </tr>\n",
              "    <tr>\n",
              "      <th>2</th>\n",
              "      <td>did you know I've gone on 2 podcasts so far......</td>\n",
              "      <td>1</td>\n",
              "      <td>1</td>\n",
              "      <td>did you know i ve gone on 2 podcasts so far   ...</td>\n",
              "    </tr>\n",
              "    <tr>\n",
              "      <th>3</th>\n",
              "      <td>Damn man! Damn that store!!!!</td>\n",
              "      <td>1</td>\n",
              "      <td>1</td>\n",
              "      <td>damn man  damn that store</td>\n",
              "    </tr>\n",
              "    <tr>\n",
              "      <th>4</th>\n",
              "      <td>i have a hj and i have no damn idea why people...</td>\n",
              "      <td>1</td>\n",
              "      <td>1</td>\n",
              "      <td>i have a hj and i have no damn idea why people...</td>\n",
              "    </tr>\n",
              "  </tbody>\n",
              "</table>\n",
              "</div>"
            ],
            "text/plain": [
              "                                             content  ...                                      content_clean\n",
              "0  damn dude! Thats how I know to go in the dark!...  ...  damn dude  thats how i know to go in the dark ...\n",
              "1  Fuck em.  Fuck em over with a fucking feather ...  ...  fuck em   fuck em over with a fucking feather ...\n",
              "2  did you know I've gone on 2 podcasts so far......  ...  did you know i ve gone on 2 podcasts so far   ...\n",
              "3                      Damn man! Damn that store!!!!  ...                      damn man  damn that store    \n",
              "4  i have a hj and i have no damn idea why people...  ...  i have a hj and i have no damn idea why people...\n",
              "\n",
              "[5 rows x 4 columns]"
            ]
          },
          "metadata": {
            "tags": []
          },
          "execution_count": 9
        }
      ]
    },
    {
      "cell_type": "markdown",
      "metadata": {
        "id": "XwXw_ngJWXor"
      },
      "source": [
        "## 1.2. Remove StopWords & Lemmatize"
      ]
    },
    {
      "cell_type": "code",
      "metadata": {
        "id": "OZ7rRknXWQ5B"
      },
      "source": [
        "stop_words = set(stopwords.words('english'))"
      ],
      "execution_count": null,
      "outputs": []
    },
    {
      "cell_type": "code",
      "metadata": {
        "colab": {
          "base_uri": "https://localhost:8080/",
          "height": 201
        },
        "id": "wOAV29Y5Wghx",
        "outputId": "e12bc4f9-f508-4f09-db5f-6d02990a066a"
      },
      "source": [
        "def remove_stop_words_lemmatize(text):\n",
        "\n",
        "    # removing stop wrods\n",
        "    word_tokens = word_tokenize(text)\n",
        "    text = [w for w in word_tokens if not w in stop_words]\n",
        "\n",
        "    # Lemmatizing\n",
        "    lemmatizer = WordNetLemmatizer()\n",
        "    text = [lemmatizer.lemmatize(word, pos='v') for word in text]\n",
        "\n",
        "    text = \" \".join(text)\n",
        "    return text\n",
        "\n",
        "df['content_clean_stop_words_lemma'] =  df['content_clean'].apply(remove_stop_words_lemmatize)\n",
        "df.head()"
      ],
      "execution_count": null,
      "outputs": [
        {
          "output_type": "execute_result",
          "data": {
            "text/html": [
              "<div>\n",
              "<style scoped>\n",
              "    .dataframe tbody tr th:only-of-type {\n",
              "        vertical-align: middle;\n",
              "    }\n",
              "\n",
              "    .dataframe tbody tr th {\n",
              "        vertical-align: top;\n",
              "    }\n",
              "\n",
              "    .dataframe thead th {\n",
              "        text-align: right;\n",
              "    }\n",
              "</style>\n",
              "<table border=\"1\" class=\"dataframe\">\n",
              "  <thead>\n",
              "    <tr style=\"text-align: right;\">\n",
              "      <th></th>\n",
              "      <th>content</th>\n",
              "      <th>label</th>\n",
              "      <th>fake</th>\n",
              "      <th>content_clean</th>\n",
              "      <th>content_clean_stop_words_lemma</th>\n",
              "    </tr>\n",
              "  </thead>\n",
              "  <tbody>\n",
              "    <tr>\n",
              "      <th>0</th>\n",
              "      <td>damn dude! Thats how I know to go in the dark!...</td>\n",
              "      <td>1</td>\n",
              "      <td>1</td>\n",
              "      <td>damn dude  thats how i know to go in the dark ...</td>\n",
              "      <td>damn dude thats know go dark sit still see</td>\n",
              "    </tr>\n",
              "    <tr>\n",
              "      <th>1</th>\n",
              "      <td>Fuck em.  Fuck em over with a fucking feather ...</td>\n",
              "      <td>1</td>\n",
              "      <td>1</td>\n",
              "      <td>fuck em   fuck em over with a fucking feather ...</td>\n",
              "      <td>fuck em fuck em fuck feather dick</td>\n",
              "    </tr>\n",
              "    <tr>\n",
              "      <th>2</th>\n",
              "      <td>did you know I've gone on 2 podcasts so far......</td>\n",
              "      <td>1</td>\n",
              "      <td>1</td>\n",
              "      <td>did you know i ve gone on 2 podcasts so far   ...</td>\n",
              "      <td>know go 2 podcast far would fuck cross lol xd</td>\n",
              "    </tr>\n",
              "    <tr>\n",
              "      <th>3</th>\n",
              "      <td>Damn man! Damn that store!!!!</td>\n",
              "      <td>1</td>\n",
              "      <td>1</td>\n",
              "      <td>damn man  damn that store</td>\n",
              "      <td>damn man damn store</td>\n",
              "    </tr>\n",
              "    <tr>\n",
              "      <th>4</th>\n",
              "      <td>i have a hj and i have no damn idea why people...</td>\n",
              "      <td>1</td>\n",
              "      <td>1</td>\n",
              "      <td>i have a hj and i have no damn idea why people...</td>\n",
              "      <td>hj damn idea people would put joules</td>\n",
              "    </tr>\n",
              "  </tbody>\n",
              "</table>\n",
              "</div>"
            ],
            "text/plain": [
              "                                             content  ...                 content_clean_stop_words_lemma\n",
              "0  damn dude! Thats how I know to go in the dark!...  ...     damn dude thats know go dark sit still see\n",
              "1  Fuck em.  Fuck em over with a fucking feather ...  ...              fuck em fuck em fuck feather dick\n",
              "2  did you know I've gone on 2 podcasts so far......  ...  know go 2 podcast far would fuck cross lol xd\n",
              "3                      Damn man! Damn that store!!!!  ...                            damn man damn store\n",
              "4  i have a hj and i have no damn idea why people...  ...           hj damn idea people would put joules\n",
              "\n",
              "[5 rows x 5 columns]"
            ]
          },
          "metadata": {
            "tags": []
          },
          "execution_count": 11
        }
      ]
    },
    {
      "cell_type": "markdown",
      "metadata": {
        "id": "bNJgj32tW6Wm"
      },
      "source": [
        "# 2. CountVectorizer"
      ]
    },
    {
      "cell_type": "code",
      "metadata": {
        "colab": {
          "base_uri": "https://localhost:8080/"
        },
        "id": "T8Qw0AjoWrwE",
        "outputId": "84092a64-7ea8-41bd-8c0f-d64bc6ba0274"
      },
      "source": [
        "vectorizer = CountVectorizer()\n",
        "X = vectorizer.fit_transform(df['content_clean_stop_words_lemma']).toarray()\n",
        "y= df['fake'].values\n",
        "\n",
        "print ('X-shape:', X.shape)\n",
        "print ('y-shape:', y.shape)"
      ],
      "execution_count": null,
      "outputs": [
        {
          "output_type": "stream",
          "text": [
            "X-shape: (7964, 6934)\n",
            "y-shape: (7964,)\n"
          ],
          "name": "stdout"
        }
      ]
    },
    {
      "cell_type": "markdown",
      "metadata": {
        "id": "cosWS2XAXVgJ"
      },
      "source": [
        "# 3. EDA"
      ]
    },
    {
      "cell_type": "markdown",
      "metadata": {
        "id": "0FhB0AgNYGWp"
      },
      "source": [
        "## 3.1. Data Balancing"
      ]
    },
    {
      "cell_type": "code",
      "metadata": {
        "colab": {
          "base_uri": "https://localhost:8080/",
          "height": 294
        },
        "id": "LOoqbB-GYKHt",
        "outputId": "a2179d9a-15ed-43e3-b8fa-e69149c89642"
      },
      "source": [
        "sns.countplot(data = df, x = 'label')"
      ],
      "execution_count": null,
      "outputs": [
        {
          "output_type": "execute_result",
          "data": {
            "text/plain": [
              "<matplotlib.axes._subplots.AxesSubplot at 0x7f829be1d290>"
            ]
          },
          "metadata": {
            "tags": []
          },
          "execution_count": 13
        },
        {
          "output_type": "display_data",
          "data": {
            "image/png": "[encoded data removed]",
            "text/plain": [
              "<Figure size 432x288 with 1 Axes>"
            ]
          },
          "metadata": {
            "tags": [],
            "needs_background": "light"
          }
        }
      ]
    },
    {
      "cell_type": "markdown",
      "metadata": {
        "id": "QZcopWxkXZka"
      },
      "source": [
        "## 3.2. PCA"
      ]
    },
    {
      "cell_type": "code",
      "metadata": {
        "id": "ofa-VlIdXN41"
      },
      "source": [
        "pca = PCA(n_components=1200).fit(X)\n",
        "X_pca = pca.transform(X)"
      ],
      "execution_count": null,
      "outputs": []
    },
    {
      "cell_type": "code",
      "metadata": {
        "colab": {
          "base_uri": "https://localhost:8080/",
          "height": 280
        },
        "id": "43NeMC5oXkJv",
        "outputId": "b25e6a8d-bb45-4b35-f9a7-82cfe278ba59"
      },
      "source": [
        "plt.plot(pca.explained_variance_ratio_.cumsum()) "
      ],
      "execution_count": null,
      "outputs": [
        {
          "output_type": "execute_result",
          "data": {
            "text/plain": [
              "[<matplotlib.lines.Line2D at 0x7f8290fd6790>]"
            ]
          },
          "metadata": {
            "tags": []
          },
          "execution_count": 16
        },
        {
          "output_type": "display_data",
          "data": {
            "image/png": "[encoded data removed]",
            "text/plain": [
              "<Figure size 432x288 with 1 Axes>"
            ]
          },
          "metadata": {
            "tags": [],
            "needs_background": "light"
          }
        }
      ]
    },
    {
      "cell_type": "code",
      "metadata": {
        "colab": {
          "base_uri": "https://localhost:8080/",
          "height": 332
        },
        "id": "QlUIGIOUXnut",
        "outputId": "06da3cc8-cca4-422f-e600-a5d355f17a93"
      },
      "source": [
        "sns.scatterplot(X_pca[:, 0], X_pca[: ,1], hue=y)"
      ],
      "execution_count": null,
      "outputs": [
        {
          "output_type": "stream",
          "text": [
            "/usr/local/lib/python3.7/dist-packages/seaborn/_decorators.py:43: FutureWarning: Pass the following variables as keyword args: x, y. From version 0.12, the only valid positional argument will be `data`, and passing other arguments without an explicit keyword will result in an error or misinterpretation.\n",
            "  FutureWarning\n"
          ],
          "name": "stderr"
        },
        {
          "output_type": "execute_result",
          "data": {
            "text/plain": [
              "<matplotlib.axes._subplots.AxesSubplot at 0x7f8290f8f750>"
            ]
          },
          "metadata": {
            "tags": []
          },
          "execution_count": 17
        },
        {
          "output_type": "display_data",
          "data": {
            "image/png": "[encoded data removed]",
            "text/plain": [
              "<Figure size 432x288 with 1 Axes>"
            ]
          },
          "metadata": {
            "tags": [],
            "needs_background": "light"
          }
        }
      ]
    },
    {
      "cell_type": "markdown",
      "metadata": {
        "id": "DE3__Bz1YhuD"
      },
      "source": [
        "# 4. Model Selection"
      ]
    },
    {
      "cell_type": "code",
      "metadata": {
        "colab": {
          "base_uri": "https://localhost:8080/",
          "height": 48
        },
        "id": "774RBtwjPkvO",
        "outputId": "25f5ab29-5818-400c-893e-4ee04b274eb0"
      },
      "source": [
        "df_scores = pd.DataFrame(columns = ['model', 'accuracy', 'precision', 'recall', 'f1_score'])\n",
        "df_scores"
      ],
      "execution_count": null,
      "outputs": [
        {
          "output_type": "execute_result",
          "data": {
            "text/html": [
              "<div>\n",
              "<style scoped>\n",
              "    .dataframe tbody tr th:only-of-type {\n",
              "        vertical-align: middle;\n",
              "    }\n",
              "\n",
              "    .dataframe tbody tr th {\n",
              "        vertical-align: top;\n",
              "    }\n",
              "\n",
              "    .dataframe thead th {\n",
              "        text-align: right;\n",
              "    }\n",
              "</style>\n",
              "<table border=\"1\" class=\"dataframe\">\n",
              "  <thead>\n",
              "    <tr style=\"text-align: right;\">\n",
              "      <th></th>\n",
              "      <th>model</th>\n",
              "      <th>accuracy</th>\n",
              "      <th>precision</th>\n",
              "      <th>recall</th>\n",
              "      <th>f1_score</th>\n",
              "    </tr>\n",
              "  </thead>\n",
              "  <tbody>\n",
              "  </tbody>\n",
              "</table>\n",
              "</div>"
            ],
            "text/plain": [
              "Empty DataFrame\n",
              "Columns: [model, accuracy, precision, recall, f1_score]\n",
              "Index: []"
            ]
          },
          "metadata": {
            "tags": []
          },
          "execution_count": 18
        }
      ]
    },
    {
      "cell_type": "code",
      "metadata": {
        "id": "sQuxtY6CZpKU"
      },
      "source": [
        "X_train, X_test, X_pca_train, X_pca_test, y_train, y_test = train_test_split(X, X_pca, y, test_size = 0.3)"
      ],
      "execution_count": null,
      "outputs": []
    },
    {
      "cell_type": "markdown",
      "metadata": {
        "id": "8_mF5I19Y-aU"
      },
      "source": [
        "## 4.1. Logistic Regression"
      ]
    },
    {
      "cell_type": "code",
      "metadata": {
        "colab": {
          "base_uri": "https://localhost:8080/"
        },
        "id": "AoRyL5keZBnH",
        "outputId": "19954db6-8f7d-45b7-f177-2e5cead51acf"
      },
      "source": [
        "log_reg = LogisticRegression()\n",
        "model = cross_validate(log_reg, X_pca_train, y_train, cv = 5, verbose=0,  n_jobs=-1, return_estimator=True)\n",
        "print ('Mean Val Acc:', model['test_score'].mean())"
      ],
      "execution_count": null,
      "outputs": [
        {
          "output_type": "stream",
          "text": [
            "Mean Val Acc: 0.5800156185845055\n"
          ],
          "name": "stdout"
        }
      ]
    },
    {
      "cell_type": "code",
      "metadata": {
        "colab": {
          "base_uri": "https://localhost:8080/",
          "height": 428
        },
        "id": "V-Ek9bktajaQ",
        "outputId": "bdee0906-1c30-43e1-9f29-1d6724fb3484"
      },
      "source": [
        "y_test_pred = log_reg.fit(X_pca_train, y_train).predict(X_pca_test)\n",
        "\n",
        "print (classification_report(y_test, y_test_pred))\n",
        "sns.heatmap(confusion_matrix(y_test, y_test_pred), annot=True, fmt = 'g')"
      ],
      "execution_count": null,
      "outputs": [
        {
          "output_type": "stream",
          "text": [
            "              precision    recall  f1-score   support\n",
            "\n",
            "           0       0.58      0.62      0.60      1190\n",
            "           1       0.59      0.55      0.57      1200\n",
            "\n",
            "    accuracy                           0.58      2390\n",
            "   macro avg       0.59      0.59      0.58      2390\n",
            "weighted avg       0.59      0.58      0.58      2390\n",
            "\n"
          ],
          "name": "stdout"
        },
        {
          "output_type": "execute_result",
          "data": {
            "text/plain": [
              "<matplotlib.axes._subplots.AxesSubplot at 0x7f8290f27a50>"
            ]
          },
          "metadata": {
            "tags": []
          },
          "execution_count": 21
        },
        {
          "output_type": "display_data",
          "data": {
            "image/png": "[encoded data removed]",
            "text/plain": [
              "<Figure size 432x288 with 2 Axes>"
            ]
          },
          "metadata": {
            "tags": [],
            "needs_background": "light"
          }
        }
      ]
    },
    {
      "cell_type": "code",
      "metadata": {
        "colab": {
          "base_uri": "https://localhost:8080/",
          "height": 78
        },
        "id": "eKtJp8t7Qd9F",
        "outputId": "53d2c61c-f537-4ac2-9e6c-d4da68cad197"
      },
      "source": [
        "from sklearn.metrics import precision_score, recall_score, f1_score, accuracy_score\n",
        "precision = round(precision_score(y_test, y_test_pred), 2)\n",
        "recall    = round(recall_score(y_test, y_test_pred), 2)\n",
        "f1        = round(f1_score(y_test, y_test_pred), 2)\n",
        "accuracy = round(accuracy_score(y_test, y_test_pred), 2)\n",
        "df_scores = df_scores.append(pd.Series(['Logistic Regression', accuracy, precision, recall, f1], index=df_scores.columns), ignore_index=True)\n",
        "df_scores"
      ],
      "execution_count": null,
      "outputs": [
        {
          "output_type": "execute_result",
          "data": {
            "text/html": [
              "<div>\n",
              "<style scoped>\n",
              "    .dataframe tbody tr th:only-of-type {\n",
              "        vertical-align: middle;\n",
              "    }\n",
              "\n",
              "    .dataframe tbody tr th {\n",
              "        vertical-align: top;\n",
              "    }\n",
              "\n",
              "    .dataframe thead th {\n",
              "        text-align: right;\n",
              "    }\n",
              "</style>\n",
              "<table border=\"1\" class=\"dataframe\">\n",
              "  <thead>\n",
              "    <tr style=\"text-align: right;\">\n",
              "      <th></th>\n",
              "      <th>model</th>\n",
              "      <th>accuracy</th>\n",
              "      <th>precision</th>\n",
              "      <th>recall</th>\n",
              "      <th>f1_score</th>\n",
              "    </tr>\n",
              "  </thead>\n",
              "  <tbody>\n",
              "    <tr>\n",
              "      <th>0</th>\n",
              "      <td>Logistic Regression</td>\n",
              "      <td>0.58</td>\n",
              "      <td>0.59</td>\n",
              "      <td>0.55</td>\n",
              "      <td>0.57</td>\n",
              "    </tr>\n",
              "  </tbody>\n",
              "</table>\n",
              "</div>"
            ],
            "text/plain": [
              "                 model  accuracy  precision  recall  f1_score\n",
              "0  Logistic Regression      0.58       0.59    0.55      0.57"
            ]
          },
          "metadata": {
            "tags": []
          },
          "execution_count": 22
        }
      ]
    },
    {
      "cell_type": "markdown",
      "metadata": {
        "id": "OLeAZlIrYlj7"
      },
      "source": [
        "## 4.2. Random Forest Classifier"
      ]
    },
    {
      "cell_type": "code",
      "metadata": {
        "colab": {
          "base_uri": "https://localhost:8080/"
        },
        "id": "KAoI2X9Qb9VW",
        "outputId": "4ae1aa11-bbd7-4e8f-d9dc-ea49f1808895"
      },
      "source": [
        "rf = RandomForestClassifier()\n",
        "model = cross_validate(rf, X_pca_train, y_train, cv = 5, verbose=0,  n_jobs=-1, return_estimator=True)\n",
        "print ('Mean Val Acc:', model['test_score'].mean())"
      ],
      "execution_count": null,
      "outputs": [
        {
          "output_type": "stream",
          "text": [
            "Mean Val Acc: 0.5810892755070003\n"
          ],
          "name": "stdout"
        }
      ]
    },
    {
      "cell_type": "code",
      "metadata": {
        "colab": {
          "base_uri": "https://localhost:8080/",
          "height": 428
        },
        "id": "am3NG1Nib-9D",
        "outputId": "ae60851e-0929-46cf-ee0e-831f9bfc9027"
      },
      "source": [
        "y_test_pred = rf.fit(X_pca_train, y_train).predict(X_pca_test)\n",
        "\n",
        "print (classification_report(y_test, y_test_pred))\n",
        "sns.heatmap(confusion_matrix(y_test, y_test_pred), annot=True, fmt = 'g')"
      ],
      "execution_count": null,
      "outputs": [
        {
          "output_type": "stream",
          "text": [
            "              precision    recall  f1-score   support\n",
            "\n",
            "           0       0.58      0.53      0.56      1190\n",
            "           1       0.57      0.62      0.59      1200\n",
            "\n",
            "    accuracy                           0.57      2390\n",
            "   macro avg       0.58      0.57      0.57      2390\n",
            "weighted avg       0.58      0.57      0.57      2390\n",
            "\n"
          ],
          "name": "stdout"
        },
        {
          "output_type": "execute_result",
          "data": {
            "text/plain": [
              "<matplotlib.axes._subplots.AxesSubplot at 0x7f8290615950>"
            ]
          },
          "metadata": {
            "tags": []
          },
          "execution_count": 24
        },
        {
          "output_type": "display_data",
          "data": {
            "image/png": "[encoded data removed]",
            "text/plain": [
              "<Figure size 432x288 with 2 Axes>"
            ]
          },
          "metadata": {
            "tags": [],
            "needs_background": "light"
          }
        }
      ]
    },
    {
      "cell_type": "code",
      "metadata": {
        "colab": {
          "base_uri": "https://localhost:8080/",
          "height": 140
        },
        "id": "JqjQet-bRixW",
        "outputId": "3da791fa-3599-4863-8a03-27afb8d6b3aa"
      },
      "source": [
        "precision = round(precision_score(y_test, y_test_pred), 2)\n",
        "recall    = round(recall_score(y_test, y_test_pred), 2)\n",
        "f1        = round(f1_score(y_test, y_test_pred), 2)\n",
        "accuracy  = round(accuracy_score(y_test, y_test_pred), 2)\n",
        "df_scores = df_scores.append(pd.Series(['Random Forest', accuracy, precision, recall, f1], index=df_scores.columns), ignore_index=True)\n",
        "df_scores"
      ],
      "execution_count": null,
      "outputs": [
        {
          "output_type": "execute_result",
          "data": {
            "text/html": [
              "<div>\n",
              "<style scoped>\n",
              "    .dataframe tbody tr th:only-of-type {\n",
              "        vertical-align: middle;\n",
              "    }\n",
              "\n",
              "    .dataframe tbody tr th {\n",
              "        vertical-align: top;\n",
              "    }\n",
              "\n",
              "    .dataframe thead th {\n",
              "        text-align: right;\n",
              "    }\n",
              "</style>\n",
              "<table border=\"1\" class=\"dataframe\">\n",
              "  <thead>\n",
              "    <tr style=\"text-align: right;\">\n",
              "      <th></th>\n",
              "      <th>model</th>\n",
              "      <th>accuracy</th>\n",
              "      <th>precision</th>\n",
              "      <th>recall</th>\n",
              "      <th>f1_score</th>\n",
              "    </tr>\n",
              "  </thead>\n",
              "  <tbody>\n",
              "    <tr>\n",
              "      <th>0</th>\n",
              "      <td>Logistic Regression</td>\n",
              "      <td>0.58</td>\n",
              "      <td>0.59</td>\n",
              "      <td>0.55</td>\n",
              "      <td>0.57</td>\n",
              "    </tr>\n",
              "    <tr>\n",
              "      <th>1</th>\n",
              "      <td>Random Forest</td>\n",
              "      <td>0.57</td>\n",
              "      <td>0.57</td>\n",
              "      <td>0.62</td>\n",
              "      <td>0.59</td>\n",
              "    </tr>\n",
              "    <tr>\n",
              "      <th>2</th>\n",
              "      <td>Random Forest</td>\n",
              "      <td>0.57</td>\n",
              "      <td>0.57</td>\n",
              "      <td>0.62</td>\n",
              "      <td>0.59</td>\n",
              "    </tr>\n",
              "  </tbody>\n",
              "</table>\n",
              "</div>"
            ],
            "text/plain": [
              "                 model  accuracy  precision  recall  f1_score\n",
              "0  Logistic Regression      0.58       0.59    0.55      0.57\n",
              "1        Random Forest      0.57       0.57    0.62      0.59\n",
              "2        Random Forest      0.57       0.57    0.62      0.59"
            ]
          },
          "metadata": {
            "tags": []
          },
          "execution_count": 26
        }
      ]
    },
    {
      "cell_type": "markdown",
      "metadata": {
        "id": "SOXW8_1PZR4_"
      },
      "source": [
        "## 4.3. MultiNomialNB"
      ]
    },
    {
      "cell_type": "code",
      "metadata": {
        "colab": {
          "base_uri": "https://localhost:8080/"
        },
        "id": "4kd5xTWSYzDm",
        "outputId": "e4a7d499-5f9b-4ec9-f8a1-34dae49aa7fb"
      },
      "source": [
        "nb_model = MultinomialNB()\n",
        "model = cross_validate(nb_model, X_train, y_train,  cv = 5, verbose=0,  n_jobs=-1, return_estimator=True)\n",
        "print ('Mean Val Acc:', model['test_score'].mean())"
      ],
      "execution_count": null,
      "outputs": [
        {
          "output_type": "stream",
          "text": [
            "/usr/local/lib/python3.7/dist-packages/joblib/externals/loky/process_executor.py:691: UserWarning: A worker stopped while some jobs were given to the executor. This can be caused by a too short worker timeout or by a memory leak.\n",
            "  \"timeout or by a memory leak.\", UserWarning\n"
          ],
          "name": "stderr"
        },
        {
          "output_type": "stream",
          "text": [
            "Mean Val Acc: 0.5570519519205223\n"
          ],
          "name": "stdout"
        }
      ]
    },
    {
      "cell_type": "code",
      "metadata": {
        "colab": {
          "base_uri": "https://localhost:8080/",
          "height": 428
        },
        "id": "qIxNXMn4St1r",
        "outputId": "f2d746b9-5bd0-41bd-982f-85cc2014a9e1"
      },
      "source": [
        "y_test_pred = nb_model.fit(X_train, y_train).predict(X_test)\n",
        "\n",
        "print (classification_report(y_test, y_test_pred))\n",
        "sns.heatmap(confusion_matrix(y_test, y_test_pred), annot=True, fmt = 'g')"
      ],
      "execution_count": null,
      "outputs": [
        {
          "output_type": "stream",
          "text": [
            "              precision    recall  f1-score   support\n",
            "\n",
            "           0       0.58      0.38      0.46      1190\n",
            "           1       0.54      0.72      0.62      1200\n",
            "\n",
            "    accuracy                           0.55      2390\n",
            "   macro avg       0.56      0.55      0.54      2390\n",
            "weighted avg       0.56      0.55      0.54      2390\n",
            "\n"
          ],
          "name": "stdout"
        },
        {
          "output_type": "execute_result",
          "data": {
            "text/plain": [
              "<matplotlib.axes._subplots.AxesSubplot at 0x7f82905b9a10>"
            ]
          },
          "metadata": {
            "tags": []
          },
          "execution_count": 28
        },
        {
          "output_type": "display_data",
          "data": {
            "image/png": "[encoded data removed]",
            "text/plain": [
              "<Figure size 432x288 with 2 Axes>"
            ]
          },
          "metadata": {
            "tags": [],
            "needs_background": "light"
          }
        }
      ]
    },
    {
      "cell_type": "code",
      "metadata": {
        "colab": {
          "base_uri": "https://localhost:8080/",
          "height": 170
        },
        "id": "GTPzYUb1SzkA",
        "outputId": "17ccbb91-b4cc-47a8-b960-2832104f41d4"
      },
      "source": [
        "precision = round(precision_score(y_test, y_test_pred), 2)\n",
        "recall    = round(recall_score(y_test, y_test_pred), 2)\n",
        "f1        = round(f1_score(y_test, y_test_pred), 2)\n",
        "accuracy  = round(accuracy_score(y_test, y_test_pred), 2)\n",
        "df_scores = df_scores.append(pd.Series(['MultinomialNB', accuracy, precision, recall, f1], index=df_scores.columns), ignore_index=True)\n",
        "df_scores"
      ],
      "execution_count": null,
      "outputs": [
        {
          "output_type": "execute_result",
          "data": {
            "text/html": [
              "<div>\n",
              "<style scoped>\n",
              "    .dataframe tbody tr th:only-of-type {\n",
              "        vertical-align: middle;\n",
              "    }\n",
              "\n",
              "    .dataframe tbody tr th {\n",
              "        vertical-align: top;\n",
              "    }\n",
              "\n",
              "    .dataframe thead th {\n",
              "        text-align: right;\n",
              "    }\n",
              "</style>\n",
              "<table border=\"1\" class=\"dataframe\">\n",
              "  <thead>\n",
              "    <tr style=\"text-align: right;\">\n",
              "      <th></th>\n",
              "      <th>model</th>\n",
              "      <th>accuracy</th>\n",
              "      <th>precision</th>\n",
              "      <th>recall</th>\n",
              "      <th>f1_score</th>\n",
              "    </tr>\n",
              "  </thead>\n",
              "  <tbody>\n",
              "    <tr>\n",
              "      <th>0</th>\n",
              "      <td>Logistic Regression</td>\n",
              "      <td>0.58</td>\n",
              "      <td>0.59</td>\n",
              "      <td>0.55</td>\n",
              "      <td>0.57</td>\n",
              "    </tr>\n",
              "    <tr>\n",
              "      <th>1</th>\n",
              "      <td>Random Forest</td>\n",
              "      <td>0.57</td>\n",
              "      <td>0.57</td>\n",
              "      <td>0.62</td>\n",
              "      <td>0.59</td>\n",
              "    </tr>\n",
              "    <tr>\n",
              "      <th>2</th>\n",
              "      <td>Random Forest</td>\n",
              "      <td>0.57</td>\n",
              "      <td>0.57</td>\n",
              "      <td>0.62</td>\n",
              "      <td>0.59</td>\n",
              "    </tr>\n",
              "    <tr>\n",
              "      <th>3</th>\n",
              "      <td>MultinomialNB</td>\n",
              "      <td>0.55</td>\n",
              "      <td>0.54</td>\n",
              "      <td>0.72</td>\n",
              "      <td>0.62</td>\n",
              "    </tr>\n",
              "  </tbody>\n",
              "</table>\n",
              "</div>"
            ],
            "text/plain": [
              "                 model  accuracy  precision  recall  f1_score\n",
              "0  Logistic Regression      0.58       0.59    0.55      0.57\n",
              "1        Random Forest      0.57       0.57    0.62      0.59\n",
              "2        Random Forest      0.57       0.57    0.62      0.59\n",
              "3        MultinomialNB      0.55       0.54    0.72      0.62"
            ]
          },
          "metadata": {
            "tags": []
          },
          "execution_count": 29
        }
      ]
    },
    {
      "cell_type": "markdown",
      "metadata": {
        "id": "CNwB0mS1c2-p"
      },
      "source": [
        "## TfidVectorizer"
      ]
    },
    {
      "cell_type": "code",
      "metadata": {
        "id": "V1ow-vnwcVOl"
      },
      "source": [
        "vectorizer = TfidfVectorizer()\n",
        "X_Tfid = vectorizer.fit_transform(df['content_clean_stop_words_lemma'].values)"
      ],
      "execution_count": null,
      "outputs": []
    },
    {
      "cell_type": "code",
      "metadata": {
        "colab": {
          "base_uri": "https://localhost:8080/"
        },
        "id": "7LxcEhYvdFcO",
        "outputId": "26397eb7-38c3-42f1-851b-9b248e3c95ad"
      },
      "source": [
        "nb_model = MultinomialNB()\n",
        "model = cross_validate(nb_model, X_Tfid, y,  cv = 5, verbose=0,  n_jobs=-1, return_estimator=True)\n",
        "print ('Mean Val Acc:', model['test_score'].mean())"
      ],
      "execution_count": null,
      "outputs": [
        {
          "output_type": "stream",
          "text": [
            "Mean Val Acc: 0.5543694618730817\n"
          ],
          "name": "stdout"
        }
      ]
    },
    {
      "cell_type": "markdown",
      "metadata": {
        "id": "nvi7drDJdPHp"
      },
      "source": [
        "## 4.4. LatentDirichletAllocation\n",
        "\n"
      ]
    },
    {
      "cell_type": "code",
      "metadata": {
        "id": "HmtB0LNHdG2i"
      },
      "source": [
        "lda_model = LatentDirichletAllocation(n_components=2).fit(X_Tfid)"
      ],
      "execution_count": null,
      "outputs": []
    },
    {
      "cell_type": "code",
      "metadata": {
        "colab": {
          "base_uri": "https://localhost:8080/",
          "height": 428
        },
        "id": "VUYDe9k0dla-",
        "outputId": "ba91bb70-867a-4b17-8d4d-2e1b2b57f2f2"
      },
      "source": [
        "y_pred = np.argmax(lda_model.transform(X_Tfid), axis=1)\n",
        "print (classification_report(y, y_pred))\n",
        "sns.heatmap(confusion_matrix(y, y_pred), annot=True, fmt = 'g')"
      ],
      "execution_count": null,
      "outputs": [
        {
          "output_type": "stream",
          "text": [
            "              precision    recall  f1-score   support\n",
            "\n",
            "           0       0.53      0.44      0.48      3985\n",
            "           1       0.52      0.60      0.56      3979\n",
            "\n",
            "    accuracy                           0.52      7964\n",
            "   macro avg       0.52      0.52      0.52      7964\n",
            "weighted avg       0.52      0.52      0.52      7964\n",
            "\n"
          ],
          "name": "stdout"
        },
        {
          "output_type": "execute_result",
          "data": {
            "text/plain": [
              "<matplotlib.axes._subplots.AxesSubplot at 0x7f82904a81d0>"
            ]
          },
          "metadata": {
            "tags": []
          },
          "execution_count": 33
        },
        {
          "output_type": "display_data",
          "data": {
            "image/png": "[encoded data removed]",
            "text/plain": [
              "<Figure size 432x288 with 2 Axes>"
            ]
          },
          "metadata": {
            "tags": [],
            "needs_background": "light"
          }
        }
      ]
    },
    {
      "cell_type": "markdown",
      "metadata": {
        "id": "UJH42PAveVAP"
      },
      "source": [
        "# DeepLearning based Models\n",
        "\n",
        "\n",
        "\n"
      ]
    },
    {
      "cell_type": "code",
      "metadata": {
        "colab": {
          "base_uri": "https://localhost:8080/"
        },
        "id": "3Bj7qLL-0ixh",
        "outputId": "5910b4cf-8329-41a9-89e3-6721b3521edc"
      },
      "source": [
        "df['content'].apply(lambda x: len(x.split())).max()"
      ],
      "execution_count": null,
      "outputs": [
        {
          "output_type": "execute_result",
          "data": {
            "text/plain": [
              "26"
            ]
          },
          "metadata": {
            "tags": []
          },
          "execution_count": 34
        }
      ]
    },
    {
      "cell_type": "code",
      "metadata": {
        "id": "lgNRff7bd8Bp"
      },
      "source": [
        "X = df['content'].values\n",
        "y = df['fake'].values"
      ],
      "execution_count": null,
      "outputs": []
    },
    {
      "cell_type": "code",
      "metadata": {
        "id": "pfw_MNKxeuUB"
      },
      "source": [
        "X_train, X_test, y_train, y_test = train_test_split(X, y, test_size = 0.3)"
      ],
      "execution_count": null,
      "outputs": []
    },
    {
      "cell_type": "code",
      "metadata": {
        "id": "asJPs6_wew5W"
      },
      "source": [
        "def strToList(s):\n",
        "    return s.split()\n",
        "X_train = [strToList(x) for x in X_train]\n",
        "X_test = [strToList(x) for x in X_test]"
      ],
      "execution_count": null,
      "outputs": []
    },
    {
      "cell_type": "code",
      "metadata": {
        "id": "TemHNHS4exr2"
      },
      "source": [
        "word_to_id = {}\n",
        "id = 1\n",
        "for sentence in X_train:\n",
        "    for word in sentence:\n",
        "        if word not in word_to_id:\n",
        "            word_to_id[word] = id\n",
        "            id+=1"
      ],
      "execution_count": null,
      "outputs": []
    },
    {
      "cell_type": "code",
      "metadata": {
        "id": "UeCV8qdme2VW"
      },
      "source": [
        "X_token_train = []\n",
        "for sentence in X_train:\n",
        "    data = []\n",
        "    for word in sentence:\n",
        "        data.append(word_to_id[word])\n",
        "    X_token_train.append(data)\n",
        "\n",
        "X_token_test = []\n",
        "for sentence in X_test:\n",
        "    data = []\n",
        "    for word in sentence:\n",
        "        if word in word_to_id:\n",
        "            data.append(word_to_id[word])\n",
        "    X_token_test.append(data)"
      ],
      "execution_count": null,
      "outputs": []
    },
    {
      "cell_type": "code",
      "metadata": {
        "id": "LKyyaZ1Ue37_"
      },
      "source": [
        "from tensorflow.keras.preprocessing.sequence import pad_sequences\n",
        "\n",
        "X_train_pad = pad_sequences(X_token_train, dtype='int64',  value = 0)\n",
        "X_test_pad = pad_sequences(X_token_test, dtype='int64', value = 0)"
      ],
      "execution_count": null,
      "outputs": []
    },
    {
      "cell_type": "code",
      "metadata": {
        "colab": {
          "base_uri": "https://localhost:8080/"
        },
        "id": "qRWNcZsYgG_c",
        "outputId": "2d2a3210-9100-416e-c397-88b6e6d2e896"
      },
      "source": [
        "print (len(X_token_train))\n",
        "print (len(X_token_test))\n",
        "print (X_train_pad.shape)\n",
        "print (X_test_pad.shape)"
      ],
      "execution_count": null,
      "outputs": [
        {
          "output_type": "stream",
          "text": [
            "5574\n",
            "2390\n",
            "(5574, 25)\n",
            "(2390, 24)\n"
          ],
          "name": "stdout"
        }
      ]
    },
    {
      "cell_type": "code",
      "metadata": {
        "colab": {
          "base_uri": "https://localhost:8080/"
        },
        "id": "SoA-Zelh1c64",
        "outputId": "e7866e30-0c50-4bdb-d0ab-46f928558c86"
      },
      "source": [
        "vocab_size = len(word_to_id)\n",
        "vocab_size"
      ],
      "execution_count": null,
      "outputs": [
        {
          "output_type": "execute_result",
          "data": {
            "text/plain": [
              "11550"
            ]
          },
          "metadata": {
            "tags": []
          },
          "execution_count": 42
        }
      ]
    },
    {
      "cell_type": "markdown",
      "metadata": {
        "id": "qeXquxpCjMEu"
      },
      "source": [
        "## 1. LSTM based model"
      ]
    },
    {
      "cell_type": "code",
      "metadata": {
        "id": "UFF_UHu1gIik"
      },
      "source": [
        "import pandas as pd\n",
        "import numpy as np\n",
        "from matplotlib import pyplot as plt\n",
        "import seaborn as sns\n",
        "from tensorflow.keras.models import Sequential\n",
        "from tensorflow.keras import layers\n",
        "from tensorflow.keras import callbacks"
      ],
      "execution_count": null,
      "outputs": []
    },
    {
      "cell_type": "code",
      "metadata": {
        "id": "M9nCgon8gKvY"
      },
      "source": [
        "def init_model(vocab_size):\n",
        "    model = Sequential()\n",
        "    model.add(layers.Embedding(input_dim=vocab_size+1, output_dim=200, mask_zero=True))\n",
        "    model.add(layers.LSTM(units = 32, activation = 'tanh'))\n",
        "    model.add(layers.Dropout(0.5))\n",
        "    model.add(layers.Dense(64, activation = 'relu'))\n",
        "    model.add(layers.Dense(1, activation='sigmoid'))\n",
        "    \n",
        "    model.compile(loss='binary_crossentropy', optimizer = 'rmsprop', metrics=['accuracy'])\n",
        "    return model "
      ],
      "execution_count": null,
      "outputs": []
    },
    {
      "cell_type": "code",
      "metadata": {
        "colab": {
          "base_uri": "https://localhost:8080/"
        },
        "id": "PIkvlZdCgLxc",
        "outputId": "ca98fa1a-b65c-4a20-9bc2-2cf98b2a1ddf"
      },
      "source": [
        "model = init_model(vocab_size)\n",
        "\n",
        "es = callbacks.EarlyStopping(patience=4, restore_best_weights = True)\n",
        "model.fit(X_train_pad, y_train, batch_size=32,\n",
        "          epochs=10,\n",
        "          validation_split = 0.1,\n",
        "          callbacks=[es])"
      ],
      "execution_count": null,
      "outputs": [
        {
          "output_type": "stream",
          "text": [
            "Epoch 1/10\n",
            "157/157 [==============================] - 16s 74ms/step - loss: 0.6803 - accuracy: 0.5568 - val_loss: 0.6521 - val_accuracy: 0.6541\n",
            "Epoch 2/10\n",
            "157/157 [==============================] - 11s 68ms/step - loss: 0.5556 - accuracy: 0.7181 - val_loss: 0.6477 - val_accuracy: 0.6613\n",
            "Epoch 3/10\n",
            "157/157 [==============================] - 11s 68ms/step - loss: 0.4165 - accuracy: 0.8036 - val_loss: 0.7737 - val_accuracy: 0.6362\n",
            "Epoch 4/10\n",
            "157/157 [==============================] - 11s 69ms/step - loss: 0.3039 - accuracy: 0.8726 - val_loss: 0.8065 - val_accuracy: 0.6201\n",
            "Epoch 5/10\n",
            "157/157 [==============================] - 11s 69ms/step - loss: 0.2232 - accuracy: 0.9063 - val_loss: 0.9886 - val_accuracy: 0.6004\n",
            "Epoch 6/10\n",
            "157/157 [==============================] - 11s 69ms/step - loss: 0.1681 - accuracy: 0.9330 - val_loss: 1.1753 - val_accuracy: 0.6290\n"
          ],
          "name": "stdout"
        },
        {
          "output_type": "execute_result",
          "data": {
            "text/plain": [
              "<tensorflow.python.keras.callbacks.History at 0x7f82400b4250>"
            ]
          },
          "metadata": {
            "tags": []
          },
          "execution_count": 45
        }
      ]
    },
    {
      "cell_type": "code",
      "metadata": {
        "colab": {
          "base_uri": "https://localhost:8080/",
          "height": 428
        },
        "id": "JE00jV9ngRij",
        "outputId": "00c567a3-e37f-4992-d2a0-27183f260ae3"
      },
      "source": [
        "y_pred = model.predict(X_test_pad)\n",
        "y_pred = [1 if x > 0.5 else 0 for x in y_pred]\n",
        "print (classification_report(y_test, y_pred))\n",
        "sns.heatmap(confusion_matrix(y_test, y_pred), annot=True, fmt = 'g')"
      ],
      "execution_count": null,
      "outputs": [
        {
          "output_type": "stream",
          "text": [
            "              precision    recall  f1-score   support\n",
            "\n",
            "           0       0.65      0.54      0.59      1184\n",
            "           1       0.61      0.71      0.66      1206\n",
            "\n",
            "    accuracy                           0.63      2390\n",
            "   macro avg       0.63      0.63      0.62      2390\n",
            "weighted avg       0.63      0.63      0.62      2390\n",
            "\n"
          ],
          "name": "stdout"
        },
        {
          "output_type": "execute_result",
          "data": {
            "text/plain": [
              "<matplotlib.axes._subplots.AxesSubplot at 0x7f81ee39c350>"
            ]
          },
          "metadata": {
            "tags": []
          },
          "execution_count": 46
        },
        {
          "output_type": "display_data",
          "data": {
            "image/png": "[encoded data removed]",
            "text/plain": [
              "<Figure size 432x288 with 2 Axes>"
            ]
          },
          "metadata": {
            "tags": [],
            "needs_background": "light"
          }
        }
      ]
    },
    {
      "cell_type": "code",
      "metadata": {
        "colab": {
          "base_uri": "https://localhost:8080/",
          "height": 201
        },
        "id": "2cjflcWKThPC",
        "outputId": "ffcba290-bf1e-4b78-9a6a-aebd7c9eb75e"
      },
      "source": [
        "precision = round(precision_score(y_test, y_pred), 2)\n",
        "recall    = round(recall_score(y_test, y_pred), 2)\n",
        "f1        = round(f1_score(y_test, y_pred), 2)\n",
        "accuracy  = round(accuracy_score(y_test, y_pred), 2)\n",
        "df_scores = df_scores.append(pd.Series(['LSTM', accuracy, precision, recall, f1], index=df_scores.columns), ignore_index=True)\n",
        "df_scores"
      ],
      "execution_count": null,
      "outputs": [
        {
          "output_type": "execute_result",
          "data": {
            "text/html": [
              "<div>\n",
              "<style scoped>\n",
              "    .dataframe tbody tr th:only-of-type {\n",
              "        vertical-align: middle;\n",
              "    }\n",
              "\n",
              "    .dataframe tbody tr th {\n",
              "        vertical-align: top;\n",
              "    }\n",
              "\n",
              "    .dataframe thead th {\n",
              "        text-align: right;\n",
              "    }\n",
              "</style>\n",
              "<table border=\"1\" class=\"dataframe\">\n",
              "  <thead>\n",
              "    <tr style=\"text-align: right;\">\n",
              "      <th></th>\n",
              "      <th>model</th>\n",
              "      <th>accuracy</th>\n",
              "      <th>precision</th>\n",
              "      <th>recall</th>\n",
              "      <th>f1_score</th>\n",
              "    </tr>\n",
              "  </thead>\n",
              "  <tbody>\n",
              "    <tr>\n",
              "      <th>0</th>\n",
              "      <td>Logistic Regression</td>\n",
              "      <td>0.58</td>\n",
              "      <td>0.59</td>\n",
              "      <td>0.55</td>\n",
              "      <td>0.57</td>\n",
              "    </tr>\n",
              "    <tr>\n",
              "      <th>1</th>\n",
              "      <td>Random Forest</td>\n",
              "      <td>0.57</td>\n",
              "      <td>0.57</td>\n",
              "      <td>0.62</td>\n",
              "      <td>0.59</td>\n",
              "    </tr>\n",
              "    <tr>\n",
              "      <th>2</th>\n",
              "      <td>Random Forest</td>\n",
              "      <td>0.57</td>\n",
              "      <td>0.57</td>\n",
              "      <td>0.62</td>\n",
              "      <td>0.59</td>\n",
              "    </tr>\n",
              "    <tr>\n",
              "      <th>3</th>\n",
              "      <td>MultinomialNB</td>\n",
              "      <td>0.55</td>\n",
              "      <td>0.54</td>\n",
              "      <td>0.72</td>\n",
              "      <td>0.62</td>\n",
              "    </tr>\n",
              "    <tr>\n",
              "      <th>4</th>\n",
              "      <td>LSTM</td>\n",
              "      <td>0.63</td>\n",
              "      <td>0.61</td>\n",
              "      <td>0.71</td>\n",
              "      <td>0.66</td>\n",
              "    </tr>\n",
              "  </tbody>\n",
              "</table>\n",
              "</div>"
            ],
            "text/plain": [
              "                 model  accuracy  precision  recall  f1_score\n",
              "0  Logistic Regression      0.58       0.59    0.55      0.57\n",
              "1        Random Forest      0.57       0.57    0.62      0.59\n",
              "2        Random Forest      0.57       0.57    0.62      0.59\n",
              "3        MultinomialNB      0.55       0.54    0.72      0.62\n",
              "4                 LSTM      0.63       0.61    0.71      0.66"
            ]
          },
          "metadata": {
            "tags": []
          },
          "execution_count": 47
        }
      ]
    },
    {
      "cell_type": "markdown",
      "metadata": {
        "id": "RLLRbCjSjPKj"
      },
      "source": [
        "## 1D-CNN based Model"
      ]
    },
    {
      "cell_type": "code",
      "metadata": {
        "id": "jhQLMn1-yGS5"
      },
      "source": [
        "X_train_pad = pad_sequences(X_token_train, dtype='int64', value = 0, maxlen=26)\n",
        "X_test_pad = pad_sequences(X_token_test, dtype='int64', value = 0, maxlen=26)"
      ],
      "execution_count": null,
      "outputs": []
    },
    {
      "cell_type": "code",
      "metadata": {
        "colab": {
          "base_uri": "https://localhost:8080/"
        },
        "id": "q5my7UCGyoKP",
        "outputId": "48c7ce59-949c-4043-aa3c-59b48c923c30"
      },
      "source": [
        "X_train_pad.shape"
      ],
      "execution_count": null,
      "outputs": [
        {
          "output_type": "execute_result",
          "data": {
            "text/plain": [
              "(5574, 26)"
            ]
          },
          "metadata": {
            "tags": []
          },
          "execution_count": 49
        }
      ]
    },
    {
      "cell_type": "code",
      "metadata": {
        "colab": {
          "base_uri": "https://localhost:8080/"
        },
        "id": "9FlJ-A9i2ZCF",
        "outputId": "e271c8fb-df7f-48cd-f48e-8af45cab7596"
      },
      "source": [
        "X_test_pad.shape"
      ],
      "execution_count": null,
      "outputs": [
        {
          "output_type": "execute_result",
          "data": {
            "text/plain": [
              "(2390, 26)"
            ]
          },
          "metadata": {
            "tags": []
          },
          "execution_count": 50
        }
      ]
    },
    {
      "cell_type": "code",
      "metadata": {
        "id": "Rc0MsJWFyvVA"
      },
      "source": [
        "def init_cnn_model(vocab_size):\n",
        "    ### YOUR CODE HERE\n",
        "    model = Sequential()\n",
        "    model.add(layers.Embedding(input_dim=vocab_size+1, input_length=26, output_dim=32, mask_zero=True))\n",
        "    model.add(layers.Conv1D(filters=64, kernel_size=5, activation='relu'))\n",
        "    model.add(layers.Dropout(0.3))\n",
        "    model.add(layers.Flatten())\n",
        "\n",
        "    model.add(layers.Dense(64, activation = 'relu'))\n",
        "    model.add(layers.Dropout(0.3))\n",
        "    model.add(layers.Dense(1, activation='sigmoid'))\n",
        "    model.compile(loss='binary_crossentropy', optimizer = 'rmsprop', metrics=['accuracy'])\n",
        "    return model \n",
        "model_cnn = init_cnn_model(vocab_size)"
      ],
      "execution_count": null,
      "outputs": []
    },
    {
      "cell_type": "code",
      "metadata": {
        "colab": {
          "base_uri": "https://localhost:8080/"
        },
        "id": "sbSB-DfI2d3V",
        "outputId": "a07061bb-4737-489a-cd53-51f685a9bb58"
      },
      "source": [
        "model_cnn.summary()"
      ],
      "execution_count": null,
      "outputs": [
        {
          "output_type": "stream",
          "text": [
            "Model: \"sequential_1\"\n",
            "_________________________________________________________________\n",
            "Layer (type)                 Output Shape              Param #   \n",
            "=================================================================\n",
            "embedding_1 (Embedding)      (None, 26, 32)            369632    \n",
            "_________________________________________________________________\n",
            "conv1d (Conv1D)              (None, 22, 64)            10304     \n",
            "_________________________________________________________________\n",
            "dropout_1 (Dropout)          (None, 22, 64)            0         \n",
            "_________________________________________________________________\n",
            "flatten (Flatten)            (None, 1408)              0         \n",
            "_________________________________________________________________\n",
            "dense_2 (Dense)              (None, 64)                90176     \n",
            "_________________________________________________________________\n",
            "dropout_2 (Dropout)          (None, 64)                0         \n",
            "_________________________________________________________________\n",
            "dense_3 (Dense)              (None, 1)                 65        \n",
            "=================================================================\n",
            "Total params: 470,177\n",
            "Trainable params: 470,177\n",
            "Non-trainable params: 0\n",
            "_________________________________________________________________\n"
          ],
          "name": "stdout"
        }
      ]
    },
    {
      "cell_type": "code",
      "metadata": {
        "colab": {
          "base_uri": "https://localhost:8080/"
        },
        "id": "y-ALWotIyxnl",
        "outputId": "deb075cc-f8cb-4d3b-eabe-a786cb98bf46"
      },
      "source": [
        "es = callbacks.EarlyStopping(patience=4, restore_best_weights = True)\n",
        "model_cnn.fit(X_train_pad, y_train, batch_size=32,\n",
        "          epochs=20,\n",
        "          validation_split = 0.2,\n",
        "          callbacks=[es])"
      ],
      "execution_count": null,
      "outputs": [
        {
          "output_type": "stream",
          "text": [
            "Epoch 1/20\n",
            "140/140 [==============================] - 15s 6ms/step - loss: 0.6835 - accuracy: 0.5519 - val_loss: 0.6702 - val_accuracy: 0.5874\n",
            "Epoch 2/20\n",
            "140/140 [==============================] - 1s 5ms/step - loss: 0.6201 - accuracy: 0.6609 - val_loss: 0.6430 - val_accuracy: 0.6251\n",
            "Epoch 3/20\n",
            "140/140 [==============================] - 1s 5ms/step - loss: 0.4724 - accuracy: 0.7686 - val_loss: 0.7019 - val_accuracy: 0.6072\n",
            "Epoch 4/20\n",
            "140/140 [==============================] - 1s 4ms/step - loss: 0.3189 - accuracy: 0.8636 - val_loss: 0.7928 - val_accuracy: 0.6090\n",
            "Epoch 5/20\n",
            "140/140 [==============================] - 1s 5ms/step - loss: 0.1896 - accuracy: 0.9251 - val_loss: 0.9914 - val_accuracy: 0.6117\n",
            "Epoch 6/20\n",
            "140/140 [==============================] - 1s 5ms/step - loss: 0.1226 - accuracy: 0.9507 - val_loss: 1.1235 - val_accuracy: 0.5937\n"
          ],
          "name": "stdout"
        },
        {
          "output_type": "execute_result",
          "data": {
            "text/plain": [
              "<tensorflow.python.keras.callbacks.History at 0x7f81eb76da90>"
            ]
          },
          "metadata": {
            "tags": []
          },
          "execution_count": 53
        }
      ]
    },
    {
      "cell_type": "code",
      "metadata": {
        "colab": {
          "base_uri": "https://localhost:8080/",
          "height": 428
        },
        "id": "occeN_Huk4YB",
        "outputId": "9f11d6ad-790f-429e-86b8-e81892ae61a4"
      },
      "source": [
        "y_pred = model_cnn.predict(X_test_pad)\n",
        "y_pred = [1 if x > 0.5 else 0 for x in y_pred]\n",
        "print (classification_report(y_test, y_pred))\n",
        "sns.heatmap(confusion_matrix(y_test, y_pred), annot=True, fmt = 'g')"
      ],
      "execution_count": null,
      "outputs": [
        {
          "output_type": "stream",
          "text": [
            "              precision    recall  f1-score   support\n",
            "\n",
            "           0       0.59      0.75      0.66      1184\n",
            "           1       0.67      0.50      0.57      1206\n",
            "\n",
            "    accuracy                           0.62      2390\n",
            "   macro avg       0.63      0.62      0.62      2390\n",
            "weighted avg       0.63      0.62      0.62      2390\n",
            "\n"
          ],
          "name": "stdout"
        },
        {
          "output_type": "execute_result",
          "data": {
            "text/plain": [
              "<matplotlib.axes._subplots.AxesSubplot at 0x7f81ea4d1e10>"
            ]
          },
          "metadata": {
            "tags": []
          },
          "execution_count": 54
        },
        {
          "output_type": "display_data",
          "data": {
            "image/png": "[encoded data removed]",
            "text/plain": [
              "<Figure size 432x288 with 2 Axes>"
            ]
          },
          "metadata": {
            "tags": [],
            "needs_background": "light"
          }
        }
      ]
    },
    {
      "cell_type": "code",
      "metadata": {
        "colab": {
          "base_uri": "https://localhost:8080/",
          "height": 231
        },
        "id": "Czrxw2dmlpZ3",
        "outputId": "3e58a126-0b6c-434f-8931-96d5a34ebe47"
      },
      "source": [
        "precision = round(precision_score(y_test, y_pred), 2)\n",
        "recall    = round(recall_score(y_test, y_pred), 2)\n",
        "f1        = round(f1_score(y_test, y_pred), 2)\n",
        "accuracy  = round(accuracy_score(y_test, y_pred), 2)\n",
        "df_scores = df_scores.append(pd.Series(['1D-CNN', accuracy, precision, recall, f1], index=df_scores.columns), ignore_index=True)\n",
        "df_scores"
      ],
      "execution_count": null,
      "outputs": [
        {
          "output_type": "execute_result",
          "data": {
            "text/html": [
              "<div>\n",
              "<style scoped>\n",
              "    .dataframe tbody tr th:only-of-type {\n",
              "        vertical-align: middle;\n",
              "    }\n",
              "\n",
              "    .dataframe tbody tr th {\n",
              "        vertical-align: top;\n",
              "    }\n",
              "\n",
              "    .dataframe thead th {\n",
              "        text-align: right;\n",
              "    }\n",
              "</style>\n",
              "<table border=\"1\" class=\"dataframe\">\n",
              "  <thead>\n",
              "    <tr style=\"text-align: right;\">\n",
              "      <th></th>\n",
              "      <th>model</th>\n",
              "      <th>accuracy</th>\n",
              "      <th>precision</th>\n",
              "      <th>recall</th>\n",
              "      <th>f1_score</th>\n",
              "    </tr>\n",
              "  </thead>\n",
              "  <tbody>\n",
              "    <tr>\n",
              "      <th>0</th>\n",
              "      <td>Logistic Regression</td>\n",
              "      <td>0.58</td>\n",
              "      <td>0.59</td>\n",
              "      <td>0.55</td>\n",
              "      <td>0.57</td>\n",
              "    </tr>\n",
              "    <tr>\n",
              "      <th>1</th>\n",
              "      <td>Random Forest</td>\n",
              "      <td>0.57</td>\n",
              "      <td>0.57</td>\n",
              "      <td>0.62</td>\n",
              "      <td>0.59</td>\n",
              "    </tr>\n",
              "    <tr>\n",
              "      <th>2</th>\n",
              "      <td>Random Forest</td>\n",
              "      <td>0.57</td>\n",
              "      <td>0.57</td>\n",
              "      <td>0.62</td>\n",
              "      <td>0.59</td>\n",
              "    </tr>\n",
              "    <tr>\n",
              "      <th>3</th>\n",
              "      <td>MultinomialNB</td>\n",
              "      <td>0.55</td>\n",
              "      <td>0.54</td>\n",
              "      <td>0.72</td>\n",
              "      <td>0.62</td>\n",
              "    </tr>\n",
              "    <tr>\n",
              "      <th>4</th>\n",
              "      <td>LSTM</td>\n",
              "      <td>0.63</td>\n",
              "      <td>0.61</td>\n",
              "      <td>0.71</td>\n",
              "      <td>0.66</td>\n",
              "    </tr>\n",
              "    <tr>\n",
              "      <th>5</th>\n",
              "      <td>1D-CNN</td>\n",
              "      <td>0.62</td>\n",
              "      <td>0.67</td>\n",
              "      <td>0.50</td>\n",
              "      <td>0.57</td>\n",
              "    </tr>\n",
              "  </tbody>\n",
              "</table>\n",
              "</div>"
            ],
            "text/plain": [
              "                 model  accuracy  precision  recall  f1_score\n",
              "0  Logistic Regression      0.58       0.59    0.55      0.57\n",
              "1        Random Forest      0.57       0.57    0.62      0.59\n",
              "2        Random Forest      0.57       0.57    0.62      0.59\n",
              "3        MultinomialNB      0.55       0.54    0.72      0.62\n",
              "4                 LSTM      0.63       0.61    0.71      0.66\n",
              "5               1D-CNN      0.62       0.67    0.50      0.57"
            ]
          },
          "metadata": {
            "tags": []
          },
          "execution_count": 55
        }
      ]
    },
    {
      "cell_type": "markdown",
      "metadata": {
        "id": "I3_guS0VopIW"
      },
      "source": [
        "# Predict Test with Best Model"
      ]
    },
    {
      "cell_type": "code",
      "metadata": {
        "id": "p23v7c7WT6RS",
        "colab": {
          "base_uri": "https://localhost:8080/"
        },
        "outputId": "a9e7a357-9321-4ab9-bc8b-48517e305af6"
      },
      "source": [
        "df_test = pd.read_csv('merged_tweets.csv')\n",
        "df_test.dropna(inplace=True)\n",
        "df_test.info()"
      ],
      "execution_count": null,
      "outputs": [
        {
          "output_type": "stream",
          "text": [
            "<class 'pandas.core.frame.DataFrame'>\n",
            "Int64Index: 2000 entries, 0 to 1999\n",
            "Data columns (total 4 columns):\n",
            " #   Column   Non-Null Count  Dtype \n",
            "---  ------   --------------  ----- \n",
            " 0   index    2000 non-null   int64 \n",
            " 1   content  2000 non-null   object\n",
            " 2   label    2000 non-null   int64 \n",
            " 3   fake     2000 non-null   int64 \n",
            "dtypes: int64(3), object(1)\n",
            "memory usage: 78.1+ KB\n"
          ],
          "name": "stdout"
        }
      ]
    },
    {
      "cell_type": "code",
      "metadata": {
        "id": "yJVEvHxHo9MP",
        "colab": {
          "base_uri": "https://localhost:8080/",
          "height": 201
        },
        "outputId": "ace0e51d-09b6-4e4e-a988-c7467fbacb0b"
      },
      "source": [
        "df_test['content_clean'] = df_test['content'].apply(text_cleaning)\n",
        "df_test.head()"
      ],
      "execution_count": null,
      "outputs": [
        {
          "output_type": "execute_result",
          "data": {
            "text/html": [
              "<div>\n",
              "<style scoped>\n",
              "    .dataframe tbody tr th:only-of-type {\n",
              "        vertical-align: middle;\n",
              "    }\n",
              "\n",
              "    .dataframe tbody tr th {\n",
              "        vertical-align: top;\n",
              "    }\n",
              "\n",
              "    .dataframe thead th {\n",
              "        text-align: right;\n",
              "    }\n",
              "</style>\n",
              "<table border=\"1\" class=\"dataframe\">\n",
              "  <thead>\n",
              "    <tr style=\"text-align: right;\">\n",
              "      <th></th>\n",
              "      <th>index</th>\n",
              "      <th>content</th>\n",
              "      <th>label</th>\n",
              "      <th>fake</th>\n",
              "      <th>content_clean</th>\n",
              "    </tr>\n",
              "  </thead>\n",
              "  <tbody>\n",
              "    <tr>\n",
              "      <th>0</th>\n",
              "      <td>0</td>\n",
              "      <td>that sucks :(  hope you could see it in her ey...</td>\n",
              "      <td>0</td>\n",
              "      <td>1</td>\n",
              "      <td>that sucks     hope you could see it in her ey...</td>\n",
              "    </tr>\n",
              "    <tr>\n",
              "      <th>1</th>\n",
              "      <td>1</td>\n",
              "      <td>I hate when my iPhone vibrates off the battery...</td>\n",
              "      <td>0</td>\n",
              "      <td>1</td>\n",
              "      <td>i hate when my iphone vibrates off the battery...</td>\n",
              "    </tr>\n",
              "    <tr>\n",
              "      <th>2</th>\n",
              "      <td>2</td>\n",
              "      <td>I know....lol I know...hmm..</td>\n",
              "      <td>0</td>\n",
              "      <td>1</td>\n",
              "      <td>i know    lol i know   hmm</td>\n",
              "    </tr>\n",
              "    <tr>\n",
              "      <th>3</th>\n",
              "      <td>3</td>\n",
              "      <td>how often do the two get together? (hate that!)</td>\n",
              "      <td>0</td>\n",
              "      <td>1</td>\n",
              "      <td>how often do the two get together   hate that</td>\n",
              "    </tr>\n",
              "    <tr>\n",
              "      <th>4</th>\n",
              "      <td>4</td>\n",
              "      <td>What do your dreams have in store for tomorrow?</td>\n",
              "      <td>0</td>\n",
              "      <td>1</td>\n",
              "      <td>what do your dreams have in store for tomorrow</td>\n",
              "    </tr>\n",
              "  </tbody>\n",
              "</table>\n",
              "</div>"
            ],
            "text/plain": [
              "   index  ...                                      content_clean\n",
              "0      0  ...  that sucks     hope you could see it in her ey...\n",
              "1      1  ...  i hate when my iphone vibrates off the battery...\n",
              "2      2  ...                       i know    lol i know   hmm  \n",
              "3      3  ...    how often do the two get together   hate that  \n",
              "4      4  ...    what do your dreams have in store for tomorrow \n",
              "\n",
              "[5 rows x 5 columns]"
            ]
          },
          "metadata": {
            "tags": []
          },
          "execution_count": 58
        }
      ]
    },
    {
      "cell_type": "code",
      "metadata": {
        "id": "p2oYrgNCo_1h",
        "colab": {
          "base_uri": "https://localhost:8080/",
          "height": 201
        },
        "outputId": "583b3ddd-00c6-4b6f-c04e-4c518469b5fb"
      },
      "source": [
        "df_test['content_clean_stop_words_lemma'] =  df_test['content_clean'].apply(remove_stop_words_lemmatize)\n",
        "df_test.head()"
      ],
      "execution_count": null,
      "outputs": [
        {
          "output_type": "execute_result",
          "data": {
            "text/html": [
              "<div>\n",
              "<style scoped>\n",
              "    .dataframe tbody tr th:only-of-type {\n",
              "        vertical-align: middle;\n",
              "    }\n",
              "\n",
              "    .dataframe tbody tr th {\n",
              "        vertical-align: top;\n",
              "    }\n",
              "\n",
              "    .dataframe thead th {\n",
              "        text-align: right;\n",
              "    }\n",
              "</style>\n",
              "<table border=\"1\" class=\"dataframe\">\n",
              "  <thead>\n",
              "    <tr style=\"text-align: right;\">\n",
              "      <th></th>\n",
              "      <th>index</th>\n",
              "      <th>content</th>\n",
              "      <th>label</th>\n",
              "      <th>fake</th>\n",
              "      <th>content_clean</th>\n",
              "      <th>content_clean_stop_words_lemma</th>\n",
              "    </tr>\n",
              "  </thead>\n",
              "  <tbody>\n",
              "    <tr>\n",
              "      <th>0</th>\n",
              "      <td>0</td>\n",
              "      <td>that sucks :(  hope you could see it in her ey...</td>\n",
              "      <td>0</td>\n",
              "      <td>1</td>\n",
              "      <td>that sucks     hope you could see it in her ey...</td>\n",
              "      <td>suck hope could see eye painful saw dead</td>\n",
              "    </tr>\n",
              "    <tr>\n",
              "      <th>1</th>\n",
              "      <td>1</td>\n",
              "      <td>I hate when my iPhone vibrates off the battery...</td>\n",
              "      <td>0</td>\n",
              "      <td>1</td>\n",
              "      <td>i hate when my iphone vibrates off the battery...</td>\n",
              "      <td>hate iphone vibrate battery</td>\n",
              "    </tr>\n",
              "    <tr>\n",
              "      <th>2</th>\n",
              "      <td>2</td>\n",
              "      <td>I know....lol I know...hmm..</td>\n",
              "      <td>0</td>\n",
              "      <td>1</td>\n",
              "      <td>i know    lol i know   hmm</td>\n",
              "      <td>know lol know hmm</td>\n",
              "    </tr>\n",
              "    <tr>\n",
              "      <th>3</th>\n",
              "      <td>3</td>\n",
              "      <td>how often do the two get together? (hate that!)</td>\n",
              "      <td>0</td>\n",
              "      <td>1</td>\n",
              "      <td>how often do the two get together   hate that</td>\n",
              "      <td>often two get together hate</td>\n",
              "    </tr>\n",
              "    <tr>\n",
              "      <th>4</th>\n",
              "      <td>4</td>\n",
              "      <td>What do your dreams have in store for tomorrow?</td>\n",
              "      <td>0</td>\n",
              "      <td>1</td>\n",
              "      <td>what do your dreams have in store for tomorrow</td>\n",
              "      <td>dream store tomorrow</td>\n",
              "    </tr>\n",
              "  </tbody>\n",
              "</table>\n",
              "</div>"
            ],
            "text/plain": [
              "   index  ...            content_clean_stop_words_lemma\n",
              "0      0  ...  suck hope could see eye painful saw dead\n",
              "1      1  ...               hate iphone vibrate battery\n",
              "2      2  ...                         know lol know hmm\n",
              "3      3  ...               often two get together hate\n",
              "4      4  ...                      dream store tomorrow\n",
              "\n",
              "[5 rows x 6 columns]"
            ]
          },
          "metadata": {
            "tags": []
          },
          "execution_count": 59
        }
      ]
    },
    {
      "cell_type": "code",
      "metadata": {
        "id": "C60uS_ArpFYY"
      },
      "source": [
        "X_train = vectorizer.transform(df['content_clean_stop_words_lemma']).toarray()\n",
        "y_train = df['fake'].values\n",
        "X_test = vectorizer.transform(df_test['content_clean_stop_words_lemma']).toarray()\n",
        "y_test= df_test['fake'].values"
      ],
      "execution_count": null,
      "outputs": []
    },
    {
      "cell_type": "code",
      "metadata": {
        "id": "7w_10U88qAz_",
        "colab": {
          "base_uri": "https://localhost:8080/",
          "height": 428
        },
        "outputId": "60099018-48b7-404a-8c2a-82189bbc5a16"
      },
      "source": [
        "nb_model = MultinomialNB()\n",
        "y_test_pred = nb_model.fit(X_train, y_train).predict(X_test)\n",
        "\n",
        "print (classification_report(y_test, y_test_pred))\n",
        "sns.heatmap(confusion_matrix(y_test, y_test_pred), annot=True, fmt = 'g')"
      ],
      "execution_count": null,
      "outputs": [
        {
          "output_type": "stream",
          "text": [
            "              precision    recall  f1-score   support\n",
            "\n",
            "           0       0.87      0.52      0.65      1000\n",
            "           1       0.66      0.92      0.77      1000\n",
            "\n",
            "    accuracy                           0.72      2000\n",
            "   macro avg       0.76      0.72      0.71      2000\n",
            "weighted avg       0.76      0.72      0.71      2000\n",
            "\n"
          ],
          "name": "stdout"
        },
        {
          "output_type": "execute_result",
          "data": {
            "text/plain": [
              "<matplotlib.axes._subplots.AxesSubplot at 0x7f8290380510>"
            ]
          },
          "metadata": {
            "tags": []
          },
          "execution_count": 61
        },
        {
          "output_type": "display_data",
          "data": {
            "image/png": "[encoded data removed]",
            "text/plain": [
              "<Figure size 432x288 with 2 Axes>"
            ]
          },
          "metadata": {
            "tags": [],
            "needs_background": "light"
          }
        }
      ]
    },
    {
      "cell_type": "code",
      "metadata": {
        "id": "JlD_beIvqJyl",
        "colab": {
          "base_uri": "https://localhost:8080/",
          "height": 201
        },
        "outputId": "3b559743-b807-4943-e583-954bf490f791"
      },
      "source": [
        "df_res = df_test[['content', 'label', 'fake']].copy()\n",
        "df_res['ai_predict'] = y_test_pred\n",
        "df_res.head()"
      ],
      "execution_count": null,
      "outputs": [
        {
          "output_type": "execute_result",
          "data": {
            "text/html": [
              "<div>\n",
              "<style scoped>\n",
              "    .dataframe tbody tr th:only-of-type {\n",
              "        vertical-align: middle;\n",
              "    }\n",
              "\n",
              "    .dataframe tbody tr th {\n",
              "        vertical-align: top;\n",
              "    }\n",
              "\n",
              "    .dataframe thead th {\n",
              "        text-align: right;\n",
              "    }\n",
              "</style>\n",
              "<table border=\"1\" class=\"dataframe\">\n",
              "  <thead>\n",
              "    <tr style=\"text-align: right;\">\n",
              "      <th></th>\n",
              "      <th>content</th>\n",
              "      <th>label</th>\n",
              "      <th>fake</th>\n",
              "      <th>ai_predict</th>\n",
              "    </tr>\n",
              "  </thead>\n",
              "  <tbody>\n",
              "    <tr>\n",
              "      <th>0</th>\n",
              "      <td>that sucks :(  hope you could see it in her ey...</td>\n",
              "      <td>0</td>\n",
              "      <td>1</td>\n",
              "      <td>0</td>\n",
              "    </tr>\n",
              "    <tr>\n",
              "      <th>1</th>\n",
              "      <td>I hate when my iPhone vibrates off the battery...</td>\n",
              "      <td>0</td>\n",
              "      <td>1</td>\n",
              "      <td>1</td>\n",
              "    </tr>\n",
              "    <tr>\n",
              "      <th>2</th>\n",
              "      <td>I know....lol I know...hmm..</td>\n",
              "      <td>0</td>\n",
              "      <td>1</td>\n",
              "      <td>1</td>\n",
              "    </tr>\n",
              "    <tr>\n",
              "      <th>3</th>\n",
              "      <td>how often do the two get together? (hate that!)</td>\n",
              "      <td>0</td>\n",
              "      <td>1</td>\n",
              "      <td>1</td>\n",
              "    </tr>\n",
              "    <tr>\n",
              "      <th>4</th>\n",
              "      <td>What do your dreams have in store for tomorrow?</td>\n",
              "      <td>0</td>\n",
              "      <td>1</td>\n",
              "      <td>1</td>\n",
              "    </tr>\n",
              "  </tbody>\n",
              "</table>\n",
              "</div>"
            ],
            "text/plain": [
              "                                             content  label  fake  ai_predict\n",
              "0  that sucks :(  hope you could see it in her ey...      0     1           0\n",
              "1  I hate when my iPhone vibrates off the battery...      0     1           1\n",
              "2                       I know....lol I know...hmm..      0     1           1\n",
              "3    how often do the two get together? (hate that!)      0     1           1\n",
              "4    What do your dreams have in store for tomorrow?      0     1           1"
            ]
          },
          "metadata": {
            "tags": []
          },
          "execution_count": 62
        }
      ]
    },
    {
      "cell_type": "code",
      "metadata": {
        "id": "WoVyyZ33rIaD"
      },
      "source": [
        "df_res.to_csv('ai_predict.csv')"
      ],
      "execution_count": null,
      "outputs": []
    },
    {
      "cell_type": "code",
      "metadata": {
        "id": "dpQ45na1ra8r"
      },
      "source": [
        ""
      ],
      "execution_count": null,
      "outputs": []
    }
  ]
}